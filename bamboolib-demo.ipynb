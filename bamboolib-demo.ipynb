{
 "cells": [
  {
   "cell_type": "code",
   "execution_count": 4,
   "metadata": {},
   "outputs": [
    {
     "name": "stdout",
     "output_type": "stream",
     "text": [
      "Defaulting to user installation because normal site-packages is not writeable\n",
      "Requirement already satisfied: pip in /usr/local/lib/python3.7/site-packages (21.3)\n",
      "Collecting pip\n",
      "  Downloading pip-21.3.1-py3-none-any.whl (1.7 MB)\n",
      "     |████████████████████████████████| 1.7 MB 26.4 MB/s            \n",
      "\u001b[?25hInstalling collected packages: pip\n",
      "\u001b[33m  WARNING: The scripts pip, pip3 and pip3.7 are installed in '/home/vscode/.local/bin' which is not on PATH.\n",
      "  Consider adding this directory to PATH or, if you prefer to suppress this warning, use --no-warn-script-location.\u001b[0m\n",
      "Successfully installed pip-21.3.1\n",
      "\u001b[33mWARNING: You are using pip version 21.3; however, version 21.3.1 is available.\n",
      "You should consider upgrading via the '/usr/local/bin/python -m pip install --upgrade pip' command.\u001b[0m\n",
      "Defaulting to user installation because normal site-packages is not writeable\n",
      "Requirement already satisfied: bamboolib in /home/vscode/.local/lib/python3.7/site-packages (from -r requirements.txt (line 1)) (1.26.0)\n",
      "Requirement already satisfied: plotly<5.0.0,>=4.9.0 in /home/vscode/.local/lib/python3.7/site-packages (from bamboolib->-r requirements.txt (line 1)) (4.14.3)\n",
      "Requirement already satisfied: attrs>=20.3.0 in /home/vscode/.local/lib/python3.7/site-packages (from bamboolib->-r requirements.txt (line 1)) (21.2.0)\n",
      "Requirement already satisfied: cryptography<3.0.0,>=2.6.1 in /home/vscode/.local/lib/python3.7/site-packages (from bamboolib->-r requirements.txt (line 1)) (2.9.2)\n",
      "Requirement already satisfied: ipywidgets<8.0.0,>=7.6.0 in /home/vscode/.local/lib/python3.7/site-packages (from bamboolib->-r requirements.txt (line 1)) (7.6.5)\n",
      "Requirement already satisfied: notebook<7.0.0,>=5.3.0 in /home/vscode/.local/lib/python3.7/site-packages (from bamboolib->-r requirements.txt (line 1)) (6.4.5)\n",
      "Requirement already satisfied: packaging>=19.2 in /home/vscode/.local/lib/python3.7/site-packages (from bamboolib->-r requirements.txt (line 1)) (21.2)\n",
      "Requirement already satisfied: analytics-python==1.2.9 in /home/vscode/.local/lib/python3.7/site-packages (from bamboolib->-r requirements.txt (line 1)) (1.2.9)\n",
      "Requirement already satisfied: xlrd>=1.0.0 in /home/vscode/.local/lib/python3.7/site-packages (from bamboolib->-r requirements.txt (line 1)) (2.0.1)\n",
      "Requirement already satisfied: ppscore<2.0.0,>=1.2.0 in /home/vscode/.local/lib/python3.7/site-packages (from bamboolib->-r requirements.txt (line 1)) (1.2.0)\n",
      "Requirement already satisfied: ipyslickgrid==0.0.3 in /home/vscode/.local/lib/python3.7/site-packages (from bamboolib->-r requirements.txt (line 1)) (0.0.3)\n",
      "Requirement already satisfied: psutil<6,>=5.4.2 in /home/vscode/.local/lib/python3.7/site-packages (from bamboolib->-r requirements.txt (line 1)) (5.8.0)\n",
      "Requirement already satisfied: jupyterlab<4.0.0,>=2.0 in /home/vscode/.local/lib/python3.7/site-packages (from bamboolib->-r requirements.txt (line 1)) (3.2.1)\n",
      "Requirement already satisfied: scikit-learn<1.0.0,>=0.20.2 in /home/vscode/.local/lib/python3.7/site-packages (from bamboolib->-r requirements.txt (line 1)) (0.24.2)\n",
      "Requirement already satisfied: toml>=0.10.0 in /home/vscode/.local/lib/python3.7/site-packages (from bamboolib->-r requirements.txt (line 1)) (0.10.2)\n",
      "Requirement already satisfied: seaborn<0.11,>=0.10 in /home/vscode/.local/lib/python3.7/site-packages (from bamboolib->-r requirements.txt (line 1)) (0.10.1)\n",
      "Requirement already satisfied: jedi<1.0.0 in /home/vscode/.local/lib/python3.7/site-packages (from bamboolib->-r requirements.txt (line 1)) (0.18.0)\n",
      "Requirement already satisfied: pandas<2.0.0,>=1.1.0 in /home/vscode/.local/lib/python3.7/site-packages (from bamboolib->-r requirements.txt (line 1)) (1.3.4)\n",
      "Requirement already satisfied: six>=1.5 in /home/vscode/.local/lib/python3.7/site-packages (from analytics-python==1.2.9->bamboolib->-r requirements.txt (line 1)) (1.16.0)\n",
      "Requirement already satisfied: python-dateutil>2.1 in /home/vscode/.local/lib/python3.7/site-packages (from analytics-python==1.2.9->bamboolib->-r requirements.txt (line 1)) (2.8.2)\n",
      "Requirement already satisfied: requests<3.0,>=2.7 in /home/vscode/.local/lib/python3.7/site-packages (from analytics-python==1.2.9->bamboolib->-r requirements.txt (line 1)) (2.26.0)\n",
      "Requirement already satisfied: cffi!=1.11.3,>=1.8 in /home/vscode/.local/lib/python3.7/site-packages (from cryptography<3.0.0,>=2.6.1->bamboolib->-r requirements.txt (line 1)) (1.15.0)\n",
      "Requirement already satisfied: traitlets>=4.3.1 in /home/vscode/.local/lib/python3.7/site-packages (from ipywidgets<8.0.0,>=7.6.0->bamboolib->-r requirements.txt (line 1)) (5.1.1)\n",
      "Requirement already satisfied: nbformat>=4.2.0 in /home/vscode/.local/lib/python3.7/site-packages (from ipywidgets<8.0.0,>=7.6.0->bamboolib->-r requirements.txt (line 1)) (5.1.3)\n",
      "Requirement already satisfied: ipython-genutils~=0.2.0 in /home/vscode/.local/lib/python3.7/site-packages (from ipywidgets<8.0.0,>=7.6.0->bamboolib->-r requirements.txt (line 1)) (0.2.0)\n",
      "Requirement already satisfied: widgetsnbextension~=3.5.0 in /home/vscode/.local/lib/python3.7/site-packages (from ipywidgets<8.0.0,>=7.6.0->bamboolib->-r requirements.txt (line 1)) (3.5.2)\n",
      "Requirement already satisfied: ipython>=4.0.0 in /home/vscode/.local/lib/python3.7/site-packages (from ipywidgets<8.0.0,>=7.6.0->bamboolib->-r requirements.txt (line 1)) (7.29.0)\n",
      "Requirement already satisfied: ipykernel>=4.5.1 in /home/vscode/.local/lib/python3.7/site-packages (from ipywidgets<8.0.0,>=7.6.0->bamboolib->-r requirements.txt (line 1)) (6.5.0)\n",
      "Requirement already satisfied: jupyterlab-widgets>=1.0.0 in /home/vscode/.local/lib/python3.7/site-packages (from ipywidgets<8.0.0,>=7.6.0->bamboolib->-r requirements.txt (line 1)) (1.0.2)\n",
      "Requirement already satisfied: parso<0.9.0,>=0.8.0 in /home/vscode/.local/lib/python3.7/site-packages (from jedi<1.0.0->bamboolib->-r requirements.txt (line 1)) (0.8.2)\n",
      "Requirement already satisfied: tornado>=6.1.0 in /home/vscode/.local/lib/python3.7/site-packages (from jupyterlab<4.0.0,>=2.0->bamboolib->-r requirements.txt (line 1)) (6.1)\n",
      "Requirement already satisfied: jinja2>=2.1 in /home/vscode/.local/lib/python3.7/site-packages (from jupyterlab<4.0.0,>=2.0->bamboolib->-r requirements.txt (line 1)) (3.0.2)\n",
      "Requirement already satisfied: jupyter-server~=1.4 in /home/vscode/.local/lib/python3.7/site-packages (from jupyterlab<4.0.0,>=2.0->bamboolib->-r requirements.txt (line 1)) (1.11.2)\n",
      "Requirement already satisfied: nbclassic~=0.2 in /home/vscode/.local/lib/python3.7/site-packages (from jupyterlab<4.0.0,>=2.0->bamboolib->-r requirements.txt (line 1)) (0.3.4)\n",
      "Requirement already satisfied: jupyter-core in /home/vscode/.local/lib/python3.7/site-packages (from jupyterlab<4.0.0,>=2.0->bamboolib->-r requirements.txt (line 1)) (4.9.1)\n",
      "Requirement already satisfied: jupyterlab-server~=2.3 in /home/vscode/.local/lib/python3.7/site-packages (from jupyterlab<4.0.0,>=2.0->bamboolib->-r requirements.txt (line 1)) (2.8.2)\n",
      "Requirement already satisfied: nbconvert in /home/vscode/.local/lib/python3.7/site-packages (from notebook<7.0.0,>=5.3.0->bamboolib->-r requirements.txt (line 1)) (6.2.0)\n",
      "Requirement already satisfied: prometheus-client in /home/vscode/.local/lib/python3.7/site-packages (from notebook<7.0.0,>=5.3.0->bamboolib->-r requirements.txt (line 1)) (0.12.0)\n",
      "Requirement already satisfied: jupyter-client>=5.3.4 in /home/vscode/.local/lib/python3.7/site-packages (from notebook<7.0.0,>=5.3.0->bamboolib->-r requirements.txt (line 1)) (7.0.6)\n",
      "Requirement already satisfied: terminado>=0.8.3 in /home/vscode/.local/lib/python3.7/site-packages (from notebook<7.0.0,>=5.3.0->bamboolib->-r requirements.txt (line 1)) (0.12.1)\n",
      "Requirement already satisfied: Send2Trash>=1.5.0 in /home/vscode/.local/lib/python3.7/site-packages (from notebook<7.0.0,>=5.3.0->bamboolib->-r requirements.txt (line 1)) (1.8.0)\n",
      "Requirement already satisfied: argon2-cffi in /home/vscode/.local/lib/python3.7/site-packages (from notebook<7.0.0,>=5.3.0->bamboolib->-r requirements.txt (line 1)) (21.1.0)\n",
      "Requirement already satisfied: pyzmq>=17 in /home/vscode/.local/lib/python3.7/site-packages (from notebook<7.0.0,>=5.3.0->bamboolib->-r requirements.txt (line 1)) (22.3.0)\n",
      "Requirement already satisfied: pyparsing<3,>=2.0.2 in /home/vscode/.local/lib/python3.7/site-packages (from packaging>=19.2->bamboolib->-r requirements.txt (line 1)) (2.4.7)\n",
      "Requirement already satisfied: numpy>=1.17.3 in /home/vscode/.local/lib/python3.7/site-packages (from pandas<2.0.0,>=1.1.0->bamboolib->-r requirements.txt (line 1)) (1.21.3)\n",
      "Requirement already satisfied: pytz>=2017.3 in /home/vscode/.local/lib/python3.7/site-packages (from pandas<2.0.0,>=1.1.0->bamboolib->-r requirements.txt (line 1)) (2021.3)\n",
      "Requirement already satisfied: retrying>=1.3.3 in /home/vscode/.local/lib/python3.7/site-packages (from plotly<5.0.0,>=4.9.0->bamboolib->-r requirements.txt (line 1)) (1.3.3)\n",
      "Requirement already satisfied: joblib>=0.11 in /home/vscode/.local/lib/python3.7/site-packages (from scikit-learn<1.0.0,>=0.20.2->bamboolib->-r requirements.txt (line 1)) (1.1.0)\n",
      "Requirement already satisfied: scipy>=0.19.1 in /home/vscode/.local/lib/python3.7/site-packages (from scikit-learn<1.0.0,>=0.20.2->bamboolib->-r requirements.txt (line 1)) (1.7.1)\n",
      "Requirement already satisfied: threadpoolctl>=2.0.0 in /home/vscode/.local/lib/python3.7/site-packages (from scikit-learn<1.0.0,>=0.20.2->bamboolib->-r requirements.txt (line 1)) (3.0.0)\n",
      "Requirement already satisfied: matplotlib>=2.1.2 in /home/vscode/.local/lib/python3.7/site-packages (from seaborn<0.11,>=0.10->bamboolib->-r requirements.txt (line 1)) (3.4.3)\n",
      "Requirement already satisfied: pycparser in /home/vscode/.local/lib/python3.7/site-packages (from cffi!=1.11.3,>=1.8->cryptography<3.0.0,>=2.6.1->bamboolib->-r requirements.txt (line 1)) (2.20)\n",
      "Requirement already satisfied: debugpy<2.0,>=1.0.0 in /home/vscode/.local/lib/python3.7/site-packages (from ipykernel>=4.5.1->ipywidgets<8.0.0,>=7.6.0->bamboolib->-r requirements.txt (line 1)) (1.5.1)\n",
      "Requirement already satisfied: argcomplete>=1.12.3 in /home/vscode/.local/lib/python3.7/site-packages (from ipykernel>=4.5.1->ipywidgets<8.0.0,>=7.6.0->bamboolib->-r requirements.txt (line 1)) (1.12.3)\n",
      "Requirement already satisfied: importlib-metadata<5 in /home/vscode/.local/lib/python3.7/site-packages (from ipykernel>=4.5.1->ipywidgets<8.0.0,>=7.6.0->bamboolib->-r requirements.txt (line 1)) (4.8.1)\n",
      "Requirement already satisfied: matplotlib-inline<0.2.0,>=0.1.0 in /home/vscode/.local/lib/python3.7/site-packages (from ipykernel>=4.5.1->ipywidgets<8.0.0,>=7.6.0->bamboolib->-r requirements.txt (line 1)) (0.1.3)\n",
      "Requirement already satisfied: decorator in /home/vscode/.local/lib/python3.7/site-packages (from ipython>=4.0.0->ipywidgets<8.0.0,>=7.6.0->bamboolib->-r requirements.txt (line 1)) (5.1.0)\n",
      "Requirement already satisfied: pygments in /home/vscode/.local/lib/python3.7/site-packages (from ipython>=4.0.0->ipywidgets<8.0.0,>=7.6.0->bamboolib->-r requirements.txt (line 1)) (2.10.0)\n",
      "Requirement already satisfied: prompt-toolkit!=3.0.0,!=3.0.1,<3.1.0,>=2.0.0 in /home/vscode/.local/lib/python3.7/site-packages (from ipython>=4.0.0->ipywidgets<8.0.0,>=7.6.0->bamboolib->-r requirements.txt (line 1)) (3.0.22)\n",
      "Requirement already satisfied: backcall in /home/vscode/.local/lib/python3.7/site-packages (from ipython>=4.0.0->ipywidgets<8.0.0,>=7.6.0->bamboolib->-r requirements.txt (line 1)) (0.2.0)\n",
      "Requirement already satisfied: pexpect>4.3 in /home/vscode/.local/lib/python3.7/site-packages (from ipython>=4.0.0->ipywidgets<8.0.0,>=7.6.0->bamboolib->-r requirements.txt (line 1)) (4.8.0)\n",
      "Requirement already satisfied: setuptools>=18.5 in /usr/local/lib/python3.7/site-packages (from ipython>=4.0.0->ipywidgets<8.0.0,>=7.6.0->bamboolib->-r requirements.txt (line 1)) (57.5.0)\n",
      "Requirement already satisfied: pickleshare in /home/vscode/.local/lib/python3.7/site-packages (from ipython>=4.0.0->ipywidgets<8.0.0,>=7.6.0->bamboolib->-r requirements.txt (line 1)) (0.7.5)\n",
      "Requirement already satisfied: MarkupSafe>=2.0 in /home/vscode/.local/lib/python3.7/site-packages (from jinja2>=2.1->jupyterlab<4.0.0,>=2.0->bamboolib->-r requirements.txt (line 1)) (2.0.1)\n",
      "Requirement already satisfied: entrypoints in /home/vscode/.local/lib/python3.7/site-packages (from jupyter-client>=5.3.4->notebook<7.0.0,>=5.3.0->bamboolib->-r requirements.txt (line 1)) (0.3)\n",
      "Requirement already satisfied: nest-asyncio>=1.5 in /home/vscode/.local/lib/python3.7/site-packages (from jupyter-client>=5.3.4->notebook<7.0.0,>=5.3.0->bamboolib->-r requirements.txt (line 1)) (1.5.1)\n",
      "Requirement already satisfied: websocket-client in /home/vscode/.local/lib/python3.7/site-packages (from jupyter-server~=1.4->jupyterlab<4.0.0,>=2.0->bamboolib->-r requirements.txt (line 1)) (1.2.1)\n",
      "Requirement already satisfied: anyio<4,>=3.1.0 in /home/vscode/.local/lib/python3.7/site-packages (from jupyter-server~=1.4->jupyterlab<4.0.0,>=2.0->bamboolib->-r requirements.txt (line 1)) (3.3.4)\n",
      "Requirement already satisfied: jsonschema>=3.0.1 in /home/vscode/.local/lib/python3.7/site-packages (from jupyterlab-server~=2.3->jupyterlab<4.0.0,>=2.0->bamboolib->-r requirements.txt (line 1)) (4.2.0)\n",
      "Requirement already satisfied: json5 in /home/vscode/.local/lib/python3.7/site-packages (from jupyterlab-server~=2.3->jupyterlab<4.0.0,>=2.0->bamboolib->-r requirements.txt (line 1)) (0.9.6)\n",
      "Requirement already satisfied: babel in /home/vscode/.local/lib/python3.7/site-packages (from jupyterlab-server~=2.3->jupyterlab<4.0.0,>=2.0->bamboolib->-r requirements.txt (line 1)) (2.9.1)\n",
      "Requirement already satisfied: kiwisolver>=1.0.1 in /home/vscode/.local/lib/python3.7/site-packages (from matplotlib>=2.1.2->seaborn<0.11,>=0.10->bamboolib->-r requirements.txt (line 1)) (1.3.2)\n",
      "Requirement already satisfied: pillow>=6.2.0 in /home/vscode/.local/lib/python3.7/site-packages (from matplotlib>=2.1.2->seaborn<0.11,>=0.10->bamboolib->-r requirements.txt (line 1)) (8.4.0)\n",
      "Requirement already satisfied: cycler>=0.10 in /home/vscode/.local/lib/python3.7/site-packages (from matplotlib>=2.1.2->seaborn<0.11,>=0.10->bamboolib->-r requirements.txt (line 1)) (0.11.0)\n",
      "Requirement already satisfied: urllib3<1.27,>=1.21.1 in /home/vscode/.local/lib/python3.7/site-packages (from requests<3.0,>=2.7->analytics-python==1.2.9->bamboolib->-r requirements.txt (line 1)) (1.26.7)\n",
      "Requirement already satisfied: idna<4,>=2.5 in /home/vscode/.local/lib/python3.7/site-packages (from requests<3.0,>=2.7->analytics-python==1.2.9->bamboolib->-r requirements.txt (line 1)) (3.3)\n",
      "Requirement already satisfied: charset-normalizer~=2.0.0 in /home/vscode/.local/lib/python3.7/site-packages (from requests<3.0,>=2.7->analytics-python==1.2.9->bamboolib->-r requirements.txt (line 1)) (2.0.7)\n",
      "Requirement already satisfied: certifi>=2017.4.17 in /home/vscode/.local/lib/python3.7/site-packages (from requests<3.0,>=2.7->analytics-python==1.2.9->bamboolib->-r requirements.txt (line 1)) (2021.10.8)\n",
      "Requirement already satisfied: ptyprocess in /home/vscode/.local/lib/python3.7/site-packages (from terminado>=0.8.3->notebook<7.0.0,>=5.3.0->bamboolib->-r requirements.txt (line 1)) (0.7.0)\n",
      "Requirement already satisfied: pandocfilters>=1.4.1 in /home/vscode/.local/lib/python3.7/site-packages (from nbconvert->notebook<7.0.0,>=5.3.0->bamboolib->-r requirements.txt (line 1)) (1.5.0)\n",
      "Requirement already satisfied: jupyterlab-pygments in /home/vscode/.local/lib/python3.7/site-packages (from nbconvert->notebook<7.0.0,>=5.3.0->bamboolib->-r requirements.txt (line 1)) (0.1.2)\n",
      "Requirement already satisfied: testpath in /home/vscode/.local/lib/python3.7/site-packages (from nbconvert->notebook<7.0.0,>=5.3.0->bamboolib->-r requirements.txt (line 1)) (0.5.0)\n",
      "Requirement already satisfied: bleach in /home/vscode/.local/lib/python3.7/site-packages (from nbconvert->notebook<7.0.0,>=5.3.0->bamboolib->-r requirements.txt (line 1)) (4.1.0)\n",
      "Requirement already satisfied: nbclient<0.6.0,>=0.5.0 in /home/vscode/.local/lib/python3.7/site-packages (from nbconvert->notebook<7.0.0,>=5.3.0->bamboolib->-r requirements.txt (line 1)) (0.5.4)\n",
      "Requirement already satisfied: defusedxml in /home/vscode/.local/lib/python3.7/site-packages (from nbconvert->notebook<7.0.0,>=5.3.0->bamboolib->-r requirements.txt (line 1)) (0.7.1)\n",
      "Requirement already satisfied: mistune<2,>=0.8.1 in /home/vscode/.local/lib/python3.7/site-packages (from nbconvert->notebook<7.0.0,>=5.3.0->bamboolib->-r requirements.txt (line 1)) (0.8.4)\n",
      "Requirement already satisfied: typing-extensions in /home/vscode/.local/lib/python3.7/site-packages (from anyio<4,>=3.1.0->jupyter-server~=1.4->jupyterlab<4.0.0,>=2.0->bamboolib->-r requirements.txt (line 1)) (3.10.0.2)\n",
      "Requirement already satisfied: sniffio>=1.1 in /home/vscode/.local/lib/python3.7/site-packages (from anyio<4,>=3.1.0->jupyter-server~=1.4->jupyterlab<4.0.0,>=2.0->bamboolib->-r requirements.txt (line 1)) (1.2.0)\n",
      "Requirement already satisfied: zipp>=0.5 in /home/vscode/.local/lib/python3.7/site-packages (from importlib-metadata<5->ipykernel>=4.5.1->ipywidgets<8.0.0,>=7.6.0->bamboolib->-r requirements.txt (line 1)) (3.6.0)\n",
      "Requirement already satisfied: importlib-resources in /home/vscode/.local/lib/python3.7/site-packages (from jsonschema>=3.0.1->jupyterlab-server~=2.3->jupyterlab<4.0.0,>=2.0->bamboolib->-r requirements.txt (line 1)) (5.4.0)\n",
      "Requirement already satisfied: pyrsistent!=0.17.0,!=0.17.1,!=0.17.2,>=0.14.0 in /home/vscode/.local/lib/python3.7/site-packages (from jsonschema>=3.0.1->jupyterlab-server~=2.3->jupyterlab<4.0.0,>=2.0->bamboolib->-r requirements.txt (line 1)) (0.18.0)\n",
      "Requirement already satisfied: wcwidth in /home/vscode/.local/lib/python3.7/site-packages (from prompt-toolkit!=3.0.0,!=3.0.1,<3.1.0,>=2.0.0->ipython>=4.0.0->ipywidgets<8.0.0,>=7.6.0->bamboolib->-r requirements.txt (line 1)) (0.2.5)\n",
      "Requirement already satisfied: webencodings in /home/vscode/.local/lib/python3.7/site-packages (from bleach->nbconvert->notebook<7.0.0,>=5.3.0->bamboolib->-r requirements.txt (line 1)) (0.5.1)\n"
     ]
    }
   ],
   "source": [
    "!python -m pip install --upgrade pip\n",
    "!pip install --upgrade -r requirements.txt"
   ]
  },
  {
   "cell_type": "code",
   "execution_count": 5,
   "metadata": {},
   "outputs": [],
   "source": [
    "import bamboolib as bam"
   ]
  },
  {
   "cell_type": "code",
   "execution_count": 6,
   "metadata": {},
   "outputs": [
    {
     "data": {
      "application/vnd.jupyter.widget-view+json": {
       "model_id": "cf5423b18ba24bb5910b86a2d195fa50",
       "version_major": 2,
       "version_minor": 0
      },
      "text/plain": [
       "BamboolibModuleWindow(children=(Window(children=(VBox(children=(VBox(children=(Button(description='Read CSV fi…"
      ]
     },
     "metadata": {},
     "output_type": "display_data"
    }
   ],
   "source": [
    "bam"
   ]
  },
  {
   "cell_type": "code",
   "execution_count": null,
   "metadata": {},
   "outputs": [],
   "source": []
  }
 ],
 "metadata": {
  "interpreter": {
   "hash": "949777d72b0d2535278d3dc13498b2535136f6dfe0678499012e853ee9abcab1"
  },
  "kernelspec": {
   "display_name": "Python 3.7.12 64-bit",
   "name": "python3"
  },
  "language_info": {
   "codemirror_mode": {
    "name": "ipython",
    "version": 3
   },
   "file_extension": ".py",
   "mimetype": "text/x-python",
   "name": "python",
   "nbconvert_exporter": "python",
   "pygments_lexer": "ipython3",
   "version": "3.7.12"
  },
  "orig_nbformat": 4
 },
 "nbformat": 4,
 "nbformat_minor": 2
}
